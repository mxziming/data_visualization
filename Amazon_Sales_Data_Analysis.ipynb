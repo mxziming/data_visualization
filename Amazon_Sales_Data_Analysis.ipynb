{
 "cells": [
  {
   "cell_type": "markdown",
   "id": "be9389a5",
   "metadata": {},
   "source": [
    "# Amazon Sale Data Analysis\n",
    "本项目使用Amazon Sale数据集,包含该网站2022年4至6月的销售数据。<br />\n",
    "\n",
    "Amazon是美国最大的电子商务交易网站，本数据集有助于深入了解电子商务销售的盈利能力。它包含各种销售渠道的数据，以及相关费用和利润的财务信息。数据列包含SKU代码、库存级别、产品类别等数据。此外，数据采集人员还添加了交易参数，如B2B状态、成交金额的销售情况。<br />"
   ]
  },
  {
   "cell_type": "markdown",
   "id": "a0185b33",
   "metadata": {},
   "source": [
    "## 数据集各字段释义：\n",
    "'Category'：Type of product.<br />\n",
    "'Size'：Size of the product.<br />\n",
    "'Date'：Date of the sale. <br />\n",
    "'Status'：Status of the sale. <br />\n",
    "'Fulfilment'：Method of fulfilment. <br />\n",
    "'Style'：Style of the product. <br />\n",
    "'SKU'：Stock Keeping Unit.【该字段作为判断单个商品的ID】<br />\n",
    "'ASIN'：Amazon Standard Identification Number. <br />\n",
    "'Courier Status'：Status of the courier. <br />\n",
    "'Qty'：Quantity of the product. <br />\n",
    "'Amount'：Amount of the sale. <br />\n",
    "'B2B'：Business to business sale. <br />\n",
    "'Currency'：The currency used for the sale.<br />"
   ]
  },
  {
   "cell_type": "markdown",
   "id": "ffaa6350",
   "metadata": {},
   "source": [
    "## 1. 导入'Amazon Sale Report.csv', 并将DataFrame命名为'sale_data', 显示前5行。\n",
    "## 1. Import 'Amazon Sale Report.csv' and name the DataFrame as 'sale_data', show the first 5 rows."
   ]
  },
  {
   "cell_type": "code",
   "execution_count": 1,
   "id": "769dcbe8",
   "metadata": {},
   "outputs": [],
   "source": [
    "# 引入必要的库\n",
    "import numpy as np\n",
    "import pandas as pd"
   ]
  },
  {
   "cell_type": "code",
   "execution_count": 2,
   "id": "472e5ece",
   "metadata": {},
   "outputs": [],
   "source": [
    "# 导入数据，并将其命名为‘sale_dat'\n",
    "sale_data = pd.read_csv('/Users/miaoxuzhou/myFolder/homework/Amazon Sale Report.csv')"
   ]
  },
  {
   "cell_type": "code",
   "execution_count": 3,
   "id": "503cfa57",
   "metadata": {},
   "outputs": [],
   "source": [
    "# 显示全部列\n",
    "pd.set_option('display.max_columns', None)\n",
    "pd.set_option('display.max_colwidth', None)"
   ]
  },
  {
   "cell_type": "code",
   "execution_count": 4,
   "id": "0ad77b06",
   "metadata": {
    "scrolled": true
   },
   "outputs": [
    {
     "data": {
      "text/html": [
       "<div>\n",
       "<style scoped>\n",
       "    .dataframe tbody tr th:only-of-type {\n",
       "        vertical-align: middle;\n",
       "    }\n",
       "\n",
       "    .dataframe tbody tr th {\n",
       "        vertical-align: top;\n",
       "    }\n",
       "\n",
       "    .dataframe thead th {\n",
       "        text-align: right;\n",
       "    }\n",
       "</style>\n",
       "<table border=\"1\" class=\"dataframe\">\n",
       "  <thead>\n",
       "    <tr style=\"text-align: right;\">\n",
       "      <th></th>\n",
       "      <th>Order ID</th>\n",
       "      <th>Date</th>\n",
       "      <th>Status</th>\n",
       "      <th>Fulfilment</th>\n",
       "      <th>Sales Channel</th>\n",
       "      <th>ship-service-level</th>\n",
       "      <th>Style</th>\n",
       "      <th>SKU</th>\n",
       "      <th>Category</th>\n",
       "      <th>Size</th>\n",
       "      <th>ASIN</th>\n",
       "      <th>Courier Status</th>\n",
       "      <th>Qty</th>\n",
       "      <th>currency</th>\n",
       "      <th>Amount</th>\n",
       "      <th>ship-city</th>\n",
       "      <th>ship-state</th>\n",
       "      <th>ship-postal-code</th>\n",
       "      <th>ship-country</th>\n",
       "      <th>B2B</th>\n",
       "      <th>fulfilled-by</th>\n",
       "    </tr>\n",
       "  </thead>\n",
       "  <tbody>\n",
       "    <tr>\n",
       "      <th>0</th>\n",
       "      <td>405-8078784-5731545</td>\n",
       "      <td>04-30-22</td>\n",
       "      <td>Cancelled</td>\n",
       "      <td>Merchant</td>\n",
       "      <td>Amazon.in</td>\n",
       "      <td>Standard</td>\n",
       "      <td>SET389</td>\n",
       "      <td>SET389-KR-NP-S</td>\n",
       "      <td>Set</td>\n",
       "      <td>S</td>\n",
       "      <td>B09KXVBD7Z</td>\n",
       "      <td>NaN</td>\n",
       "      <td>0</td>\n",
       "      <td>INR</td>\n",
       "      <td>647.62</td>\n",
       "      <td>MUMBAI</td>\n",
       "      <td>MAHARASHTRA</td>\n",
       "      <td>400081.0</td>\n",
       "      <td>IN</td>\n",
       "      <td>False</td>\n",
       "      <td>Easy Ship</td>\n",
       "    </tr>\n",
       "    <tr>\n",
       "      <th>1</th>\n",
       "      <td>171-9198151-1101146</td>\n",
       "      <td>04-30-22</td>\n",
       "      <td>Shipped - Delivered to Buyer</td>\n",
       "      <td>Merchant</td>\n",
       "      <td>Amazon.in</td>\n",
       "      <td>Standard</td>\n",
       "      <td>JNE3781</td>\n",
       "      <td>JNE3781-KR-XXXL</td>\n",
       "      <td>kurta</td>\n",
       "      <td>3XL</td>\n",
       "      <td>B09K3WFS32</td>\n",
       "      <td>Shipped</td>\n",
       "      <td>1</td>\n",
       "      <td>INR</td>\n",
       "      <td>406.00</td>\n",
       "      <td>BENGALURU</td>\n",
       "      <td>KARNATAKA</td>\n",
       "      <td>560085.0</td>\n",
       "      <td>IN</td>\n",
       "      <td>False</td>\n",
       "      <td>Easy Ship</td>\n",
       "    </tr>\n",
       "    <tr>\n",
       "      <th>2</th>\n",
       "      <td>404-0687676-7273146</td>\n",
       "      <td>04-30-22</td>\n",
       "      <td>Shipped</td>\n",
       "      <td>Amazon</td>\n",
       "      <td>Amazon.in</td>\n",
       "      <td>Expedited</td>\n",
       "      <td>JNE3371</td>\n",
       "      <td>JNE3371-KR-XL</td>\n",
       "      <td>kurta</td>\n",
       "      <td>XL</td>\n",
       "      <td>B07WV4JV4D</td>\n",
       "      <td>Shipped</td>\n",
       "      <td>1</td>\n",
       "      <td>INR</td>\n",
       "      <td>329.00</td>\n",
       "      <td>NAVI MUMBAI</td>\n",
       "      <td>MAHARASHTRA</td>\n",
       "      <td>410210.0</td>\n",
       "      <td>IN</td>\n",
       "      <td>True</td>\n",
       "      <td>NaN</td>\n",
       "    </tr>\n",
       "    <tr>\n",
       "      <th>3</th>\n",
       "      <td>403-9615377-8133951</td>\n",
       "      <td>04-30-22</td>\n",
       "      <td>Cancelled</td>\n",
       "      <td>Merchant</td>\n",
       "      <td>Amazon.in</td>\n",
       "      <td>Standard</td>\n",
       "      <td>J0341</td>\n",
       "      <td>J0341-DR-L</td>\n",
       "      <td>Western Dress</td>\n",
       "      <td>L</td>\n",
       "      <td>B099NRCT7B</td>\n",
       "      <td>NaN</td>\n",
       "      <td>0</td>\n",
       "      <td>INR</td>\n",
       "      <td>753.33</td>\n",
       "      <td>PUDUCHERRY</td>\n",
       "      <td>PUDUCHERRY</td>\n",
       "      <td>605008.0</td>\n",
       "      <td>IN</td>\n",
       "      <td>False</td>\n",
       "      <td>Easy Ship</td>\n",
       "    </tr>\n",
       "    <tr>\n",
       "      <th>4</th>\n",
       "      <td>407-1069790-7240320</td>\n",
       "      <td>04-30-22</td>\n",
       "      <td>Shipped</td>\n",
       "      <td>Amazon</td>\n",
       "      <td>Amazon.in</td>\n",
       "      <td>Expedited</td>\n",
       "      <td>JNE3671</td>\n",
       "      <td>JNE3671-TU-XXXL</td>\n",
       "      <td>Top</td>\n",
       "      <td>3XL</td>\n",
       "      <td>B098714BZP</td>\n",
       "      <td>Shipped</td>\n",
       "      <td>1</td>\n",
       "      <td>INR</td>\n",
       "      <td>574.00</td>\n",
       "      <td>CHENNAI</td>\n",
       "      <td>TAMIL NADU</td>\n",
       "      <td>600073.0</td>\n",
       "      <td>IN</td>\n",
       "      <td>False</td>\n",
       "      <td>NaN</td>\n",
       "    </tr>\n",
       "  </tbody>\n",
       "</table>\n",
       "</div>"
      ],
      "text/plain": [
       "              Order ID      Date                        Status Fulfilment  \\\n",
       "0  405-8078784-5731545  04-30-22                     Cancelled   Merchant   \n",
       "1  171-9198151-1101146  04-30-22  Shipped - Delivered to Buyer   Merchant   \n",
       "2  404-0687676-7273146  04-30-22                       Shipped     Amazon   \n",
       "3  403-9615377-8133951  04-30-22                     Cancelled   Merchant   \n",
       "4  407-1069790-7240320  04-30-22                       Shipped     Amazon   \n",
       "\n",
       "  Sales Channel ship-service-level    Style              SKU       Category  \\\n",
       "0     Amazon.in           Standard   SET389   SET389-KR-NP-S            Set   \n",
       "1     Amazon.in           Standard  JNE3781  JNE3781-KR-XXXL          kurta   \n",
       "2     Amazon.in          Expedited  JNE3371    JNE3371-KR-XL          kurta   \n",
       "3     Amazon.in           Standard    J0341       J0341-DR-L  Western Dress   \n",
       "4     Amazon.in          Expedited  JNE3671  JNE3671-TU-XXXL            Top   \n",
       "\n",
       "  Size        ASIN Courier Status  Qty currency  Amount    ship-city  \\\n",
       "0    S  B09KXVBD7Z            NaN    0      INR  647.62       MUMBAI   \n",
       "1  3XL  B09K3WFS32        Shipped    1      INR  406.00    BENGALURU   \n",
       "2   XL  B07WV4JV4D        Shipped    1      INR  329.00  NAVI MUMBAI   \n",
       "3    L  B099NRCT7B            NaN    0      INR  753.33   PUDUCHERRY   \n",
       "4  3XL  B098714BZP        Shipped    1      INR  574.00      CHENNAI   \n",
       "\n",
       "    ship-state  ship-postal-code ship-country    B2B fulfilled-by  \n",
       "0  MAHARASHTRA          400081.0           IN  False    Easy Ship  \n",
       "1    KARNATAKA          560085.0           IN  False    Easy Ship  \n",
       "2  MAHARASHTRA          410210.0           IN   True          NaN  \n",
       "3   PUDUCHERRY          605008.0           IN  False    Easy Ship  \n",
       "4   TAMIL NADU          600073.0           IN  False          NaN  "
      ]
     },
     "execution_count": 4,
     "metadata": {},
     "output_type": "execute_result"
    }
   ],
   "source": [
    "# 显示前5行\n",
    "sale_data.head(5)"
   ]
  },
  {
   "cell_type": "markdown",
   "id": "da511374",
   "metadata": {},
   "source": [
    "## 2. 检查各字段的数据类型以及非空值的数量。\n",
    "## 2. Check the data type of each field and the number of non-null values."
   ]
  },
  {
   "cell_type": "code",
   "execution_count": 5,
   "id": "16197f58",
   "metadata": {},
   "outputs": [
    {
     "data": {
      "text/plain": [
       "Order ID               object\n",
       "Date                   object\n",
       "Status                 object\n",
       "Fulfilment             object\n",
       "Sales Channel          object\n",
       "ship-service-level     object\n",
       "Style                  object\n",
       "SKU                    object\n",
       "Category               object\n",
       "Size                   object\n",
       "ASIN                   object\n",
       "Courier Status         object\n",
       "Qty                     int64\n",
       "currency               object\n",
       "Amount                float64\n",
       "ship-city              object\n",
       "ship-state             object\n",
       "ship-postal-code      float64\n",
       "ship-country           object\n",
       "B2B                      bool\n",
       "fulfilled-by           object\n",
       "dtype: object"
      ]
     },
     "execution_count": 5,
     "metadata": {},
     "output_type": "execute_result"
    }
   ],
   "source": [
    "# 各字段的数据类型\n",
    "sale_data.dtypes"
   ]
  },
  {
   "cell_type": "code",
   "execution_count": 6,
   "id": "f9df987e",
   "metadata": {},
   "outputs": [
    {
     "data": {
      "text/plain": [
       "Order ID              73695\n",
       "Date                  73695\n",
       "Status                73695\n",
       "Fulfilment            73695\n",
       "Sales Channel         73695\n",
       "ship-service-level    73695\n",
       "Style                 73695\n",
       "SKU                   73695\n",
       "Category              73695\n",
       "Size                  73695\n",
       "ASIN                  73695\n",
       "Courier Status        69458\n",
       "Qty                   73695\n",
       "currency              69258\n",
       "Amount                69258\n",
       "ship-city             73681\n",
       "ship-state            73681\n",
       "ship-postal-code      73681\n",
       "ship-country          73681\n",
       "B2B                   73695\n",
       "fulfilled-by          24355\n",
       "dtype: int64"
      ]
     },
     "execution_count": 6,
     "metadata": {},
     "output_type": "execute_result"
    }
   ],
   "source": [
    "# 方法一\n",
    "sale_data.notnull().sum()"
   ]
  },
  {
   "cell_type": "code",
   "execution_count": 7,
   "id": "282209a7",
   "metadata": {},
   "outputs": [
    {
     "data": {
      "text/plain": [
       "Order ID              73695\n",
       "Date                  73695\n",
       "Status                73695\n",
       "Fulfilment            73695\n",
       "Sales Channel         73695\n",
       "ship-service-level    73695\n",
       "Style                 73695\n",
       "SKU                   73695\n",
       "Category              73695\n",
       "Size                  73695\n",
       "ASIN                  73695\n",
       "Courier Status        69458\n",
       "Qty                   73695\n",
       "currency              69258\n",
       "Amount                69258\n",
       "ship-city             73681\n",
       "ship-state            73681\n",
       "ship-postal-code      73681\n",
       "ship-country          73681\n",
       "B2B                   73695\n",
       "fulfilled-by          24355\n",
       "dtype: int64"
      ]
     },
     "execution_count": 7,
     "metadata": {},
     "output_type": "execute_result"
    }
   ],
   "source": [
    "# 方法二\n",
    "pd.notnull(sale_data).sum()"
   ]
  },
  {
   "cell_type": "code",
   "execution_count": 8,
   "id": "eaa98406",
   "metadata": {},
   "outputs": [
    {
     "name": "stdout",
     "output_type": "stream",
     "text": [
      "<class 'pandas.core.frame.DataFrame'>\n",
      "RangeIndex: 73695 entries, 0 to 73694\n",
      "Data columns (total 21 columns):\n",
      " #   Column              Non-Null Count  Dtype  \n",
      "---  ------              --------------  -----  \n",
      " 0   Order ID            73695 non-null  object \n",
      " 1   Date                73695 non-null  object \n",
      " 2   Status              73695 non-null  object \n",
      " 3   Fulfilment          73695 non-null  object \n",
      " 4   Sales Channel       73695 non-null  object \n",
      " 5   ship-service-level  73695 non-null  object \n",
      " 6   Style               73695 non-null  object \n",
      " 7   SKU                 73695 non-null  object \n",
      " 8   Category            73695 non-null  object \n",
      " 9   Size                73695 non-null  object \n",
      " 10  ASIN                73695 non-null  object \n",
      " 11  Courier Status      69458 non-null  object \n",
      " 12  Qty                 73695 non-null  int64  \n",
      " 13  currency            69258 non-null  object \n",
      " 14  Amount              69258 non-null  float64\n",
      " 15  ship-city           73681 non-null  object \n",
      " 16  ship-state          73681 non-null  object \n",
      " 17  ship-postal-code    73681 non-null  float64\n",
      " 18  ship-country        73681 non-null  object \n",
      " 19  B2B                 73695 non-null  bool   \n",
      " 20  fulfilled-by        24355 non-null  object \n",
      "dtypes: bool(1), float64(2), int64(1), object(17)\n",
      "memory usage: 11.3+ MB\n"
     ]
    }
   ],
   "source": [
    "# 方法三\n",
    "sale_data.info()"
   ]
  },
  {
   "cell_type": "markdown",
   "id": "6c650291",
   "metadata": {},
   "source": [
    "## 3. 统计各个字段的缺失值比例，转为百分比形式，保留两位小数。\n",
    "## 3. Count the proportion of missing values for each field, converted to percentage form with two decimal places."
   ]
  },
  {
   "cell_type": "code",
   "execution_count": 9,
   "id": "016b8954",
   "metadata": {},
   "outputs": [],
   "source": [
    "# 统计各个字段的缺失值比例 \n",
    "null_percentage = pd.Series(sale_data.isnull().sum() / sale_data.shape[0])"
   ]
  },
  {
   "cell_type": "code",
   "execution_count": 10,
   "id": "f6fbdc36",
   "metadata": {},
   "outputs": [
    {
     "data": {
      "text/plain": [
       "Order ID               0.00%\n",
       "Date                   0.00%\n",
       "Status                 0.00%\n",
       "Fulfilment             0.00%\n",
       "Sales Channel          0.00%\n",
       "ship-service-level     0.00%\n",
       "Style                  0.00%\n",
       "SKU                    0.00%\n",
       "Category               0.00%\n",
       "Size                   0.00%\n",
       "ASIN                   0.00%\n",
       "Courier Status         5.75%\n",
       "Qty                    0.00%\n",
       "currency               6.02%\n",
       "Amount                 6.02%\n",
       "ship-city              0.02%\n",
       "ship-state             0.02%\n",
       "ship-postal-code       0.02%\n",
       "ship-country           0.02%\n",
       "B2B                    0.00%\n",
       "fulfilled-by          66.95%\n",
       "dtype: object"
      ]
     },
     "execution_count": 10,
     "metadata": {},
     "output_type": "execute_result"
    }
   ],
   "source": [
    "null_percentage.map(lambda x: format(x, '.2%'))"
   ]
  },
  {
   "cell_type": "markdown",
   "id": "c1026ab4",
   "metadata": {},
   "source": [
    "## 4. 删除'Courier Status'列中取值为Cancelled和NaN的订单。\n",
    "## 4. Delete orders with values Cancelled and NaN in the 'Courier Status' column."
   ]
  },
  {
   "cell_type": "code",
   "execution_count": 11,
   "id": "f178031d",
   "metadata": {},
   "outputs": [],
   "source": [
    "# 'Courier Status'取值为Cancelled和NaN的行索引\n",
    "index_list = sale_data[(sale_data['Courier Status'] == 'Cancelled') | (sale_data['Courier Status'].isnull())].index"
   ]
  },
  {
   "cell_type": "code",
   "execution_count": 12,
   "id": "af44cb11",
   "metadata": {},
   "outputs": [
    {
     "data": {
      "text/plain": [
       "Index([    0,     3,     8,    23,    29,    65,    83,    84,    95,   101,\n",
       "       ...\n",
       "       73567, 73581, 73605, 73610, 73622, 73623, 73627, 73628, 73678, 73687],\n",
       "      dtype='int64', length=7500)"
      ]
     },
     "execution_count": 12,
     "metadata": {},
     "output_type": "execute_result"
    }
   ],
   "source": [
    "index_list"
   ]
  },
  {
   "cell_type": "code",
   "execution_count": 13,
   "id": "a0076ea3",
   "metadata": {},
   "outputs": [],
   "source": [
    "# 删除上述行\n",
    "sale_data.drop(index=index_list, inplace=True)"
   ]
  },
  {
   "cell_type": "code",
   "execution_count": 14,
   "id": "a407115d",
   "metadata": {},
   "outputs": [
    {
     "data": {
      "text/plain": [
       "array(['Shipped', 'Unshipped'], dtype=object)"
      ]
     },
     "execution_count": 14,
     "metadata": {},
     "output_type": "execute_result"
    }
   ],
   "source": [
    "sale_data['Courier Status'].unique()"
   ]
  },
  {
   "cell_type": "markdown",
   "id": "628f5285",
   "metadata": {},
   "source": [
    "## 5. 统计销售金额（Amount）为NaN的订单状态（status）是什么？然后将取值为空的Amount设置为0。\n",
    "## 5. What is the status of an order that has a sales amount (Amount) of NaN? Then set the Amount with a null value to 0."
   ]
  },
  {
   "cell_type": "code",
   "execution_count": 15,
   "id": "fbab83e9",
   "metadata": {},
   "outputs": [
    {
     "data": {
      "text/plain": [
       "array(['Shipped', 'Cancelled', 'Shipping'], dtype=object)"
      ]
     },
     "execution_count": 15,
     "metadata": {},
     "output_type": "execute_result"
    }
   ],
   "source": [
    "'''\n",
    "销售金额为NaN的订单，共有三种状态，分别为'Shipped', 'Cancelled', 'Shipping'\n",
    "'''\n",
    "\n",
    "sale_data[sale_data['Amount'].isnull()]['Status'].unique()"
   ]
  },
  {
   "cell_type": "code",
   "execution_count": 16,
   "id": "8b213a21",
   "metadata": {},
   "outputs": [
    {
     "data": {
      "text/plain": [
       "Status\n",
       "Shipped      67\n",
       "Shipping      8\n",
       "Cancelled     1\n",
       "Name: count, dtype: int64"
      ]
     },
     "execution_count": 16,
     "metadata": {},
     "output_type": "execute_result"
    }
   ],
   "source": [
    "'''\n",
    "每种订单状态的数量如下所示\n",
    "'''\n",
    "\n",
    "sale_data[sale_data['Amount'].isnull()]['Status'].value_counts()"
   ]
  },
  {
   "cell_type": "code",
   "execution_count": 17,
   "id": "03f230e2",
   "metadata": {},
   "outputs": [],
   "source": [
    "# 将取值为空的Amount设置为0\n",
    "\n",
    "sale_data.fillna({'Amount': 0}, inplace=True)"
   ]
  },
  {
   "cell_type": "markdown",
   "id": "357ff45f",
   "metadata": {},
   "source": [
    "## 6. 统计配送订单数量前10的城市（city）。\n",
    "## 6. Statistics on the top 10 cities in terms of the number of delivery orders."
   ]
  },
  {
   "cell_type": "code",
   "execution_count": 18,
   "id": "f35bd003",
   "metadata": {},
   "outputs": [
    {
     "data": {
      "text/plain": [
       "ship-city\n",
       "BENGALURU    5860\n",
       "HYDERABAD    4251\n",
       "MUMBAI       3172\n",
       "NEW DELHI    2924\n",
       "CHENNAI      2764\n",
       "PUNE         2005\n",
       "KOLKATA      1221\n",
       "GURUGRAM     1029\n",
       "THANE         856\n",
       "NOIDA         751\n",
       "dtype: int64"
      ]
     },
     "execution_count": 18,
     "metadata": {},
     "output_type": "execute_result"
    }
   ],
   "source": [
    "# 方法一\n",
    "sale_data.groupby('ship-city').size().sort_values(ascending=False).head(10)"
   ]
  },
  {
   "cell_type": "code",
   "execution_count": 19,
   "id": "a2a878c6",
   "metadata": {},
   "outputs": [
    {
     "data": {
      "text/plain": [
       "ship-city\n",
       "BENGALURU    5860\n",
       "HYDERABAD    4251\n",
       "MUMBAI       3172\n",
       "NEW DELHI    2924\n",
       "CHENNAI      2764\n",
       "PUNE         2005\n",
       "KOLKATA      1221\n",
       "GURUGRAM     1029\n",
       "THANE         856\n",
       "NOIDA         751\n",
       "Name: count, dtype: int64"
      ]
     },
     "execution_count": 19,
     "metadata": {},
     "output_type": "execute_result"
    }
   ],
   "source": [
    "# 方法二\n",
    "sale_data['ship-city'].value_counts().head(10)"
   ]
  },
  {
   "cell_type": "markdown",
   "id": "6b077861",
   "metadata": {},
   "source": [
    "## 7. 销售渠道（sales channel）中不同配送方式（ship-service-level）各有多少订单？\n",
    "## 7. How many orders are there for each of the different distribution methods (ship-service-level) in the sales channel?"
   ]
  },
  {
   "cell_type": "code",
   "execution_count": 20,
   "id": "119d35c2",
   "metadata": {},
   "outputs": [
    {
     "data": {
      "text/plain": [
       "Sales Channel  ship-service-level\n",
       "Amazon.in      Expedited             45486\n",
       "               Standard              20633\n",
       "Non-Amazon     Standard                 76\n",
       "Name: count, dtype: int64"
      ]
     },
     "execution_count": 20,
     "metadata": {},
     "output_type": "execute_result"
    }
   ],
   "source": [
    "'''\n",
    "销售渠道为Amazon.in的订单中，有45486个的配送方式为Expedited，20633个的配送方式为Standard\n",
    "销售渠道为Non-Amazon的订单，配送方式全部为Standard\n",
    "'''\n",
    "\n",
    "sale_data.groupby('Sales Channel')['ship-service-level'].value_counts()"
   ]
  },
  {
   "cell_type": "markdown",
   "id": "4fc7f24d",
   "metadata": {},
   "source": [
    "## 8. 筛选出同一笔订单中购买两个以上商品的Style。\n",
    "## 8. Filter Style for purchases of more than two items in the same order.\n",
    "\n",
    "### a. 检查订单ID的重复情况。（共计多少个重复订单？）\n",
    "### a. Check for duplicate order IDs. (How many total duplicate orders?) \n",
    "\n",
    "### b.给出相同订单同时购买的商品Style列表。\n",
    "### b. Give the list of Styles of items purchased at the same time for the same order. "
   ]
  },
  {
   "cell_type": "code",
   "execution_count": 21,
   "id": "8bfa0102",
   "metadata": {},
   "outputs": [
    {
     "data": {
      "text/plain": [
       "4442"
      ]
     },
     "execution_count": 21,
     "metadata": {},
     "output_type": "execute_result"
    }
   ],
   "source": [
    "'''\n",
    "共有4442个重复订单\n",
    "'''\n",
    "\n",
    "# 方法一\n",
    "sale_data['Order ID'].duplicated().sum()"
   ]
  },
  {
   "cell_type": "code",
   "execution_count": 22,
   "id": "a724bc13",
   "metadata": {},
   "outputs": [
    {
     "data": {
      "text/plain": [
       "4442"
      ]
     },
     "execution_count": 22,
     "metadata": {},
     "output_type": "execute_result"
    }
   ],
   "source": [
    "# 方法二\n",
    "sale_data.duplicated(subset=['Order ID']).sum()"
   ]
  },
  {
   "cell_type": "code",
   "execution_count": 23,
   "id": "1e40d466",
   "metadata": {},
   "outputs": [],
   "source": [
    "# 计算各订单的出现次数\n",
    "\n",
    "orders = sale_data['Order ID'].value_counts()"
   ]
  },
  {
   "cell_type": "code",
   "execution_count": 24,
   "id": "7162e871",
   "metadata": {},
   "outputs": [
    {
     "data": {
      "text/plain": [
       "Order ID\n",
       "404-9932919-6662730    11\n",
       "408-3317403-1729937    10\n",
       "171-0706521-2133101     9\n",
       "406-9002076-4152331     9\n",
       "408-2964501-8373155     9\n",
       "                       ..\n",
       "408-2995578-1548353     1\n",
       "404-5702960-6607520     1\n",
       "402-9354309-8488351     1\n",
       "171-3555340-7344362     1\n",
       "408-7436540-8728312     1\n",
       "Name: count, Length: 61753, dtype: int64"
      ]
     },
     "execution_count": 24,
     "metadata": {},
     "output_type": "execute_result"
    }
   ],
   "source": [
    "orders"
   ]
  },
  {
   "cell_type": "code",
   "execution_count": 25,
   "id": "fdb24df7",
   "metadata": {},
   "outputs": [
    {
     "data": {
      "text/plain": [
       "Order ID\n",
       "404-9932919-6662730    11\n",
       "408-3317403-1729937    10\n",
       "171-0706521-2133101     9\n",
       "406-9002076-4152331     9\n",
       "408-2964501-8373155     9\n",
       "                       ..\n",
       "406-6287425-2580336     2\n",
       "405-5072638-5053100     2\n",
       "404-2077610-0505155     2\n",
       "408-9194238-6276309     2\n",
       "402-5940577-5694732     2\n",
       "Name: count, Length: 3520, dtype: int64"
      ]
     },
     "execution_count": 25,
     "metadata": {},
     "output_type": "execute_result"
    }
   ],
   "source": [
    "# 出现次数大于1次的订单\n",
    "\n",
    "'''\n",
    "共有3520个订单重复出现\n",
    "'''\n",
    "\n",
    "orders[orders > 1]"
   ]
  },
  {
   "cell_type": "code",
   "execution_count": 26,
   "id": "9c8a2dd4",
   "metadata": {},
   "outputs": [],
   "source": [
    "# 出现次数大于2次的订单的索引\n",
    "\n",
    "duplicate_order_index = orders[orders > 2].index"
   ]
  },
  {
   "cell_type": "code",
   "execution_count": 27,
   "id": "048be472",
   "metadata": {},
   "outputs": [
    {
     "data": {
      "text/plain": [
       "Index(['404-9932919-6662730', '408-3317403-1729937', '171-0706521-2133101',\n",
       "       '406-9002076-4152331', '408-2964501-8373155', '408-1569430-1461928',\n",
       "       '404-9683809-0005156', '406-1625125-0601152', '402-6165536-3533113',\n",
       "       '402-1111229-8054733',\n",
       "       ...\n",
       "       '402-6021557-1715545', '171-9234688-5113153', '404-2275585-0501115',\n",
       "       '405-7068814-7981155', '405-9653690-7942704', '171-9796298-6929959',\n",
       "       '407-2651486-8916348', '408-0031421-1440330', '402-6505447-8489112',\n",
       "       '405-6430907-0756335'],\n",
       "      dtype='object', name='Order ID', length=629)"
      ]
     },
     "execution_count": 27,
     "metadata": {},
     "output_type": "execute_result"
    }
   ],
   "source": [
    "duplicate_order_index"
   ]
  },
  {
   "cell_type": "code",
   "execution_count": 28,
   "id": "430189fd",
   "metadata": {},
   "outputs": [
    {
     "data": {
      "text/plain": [
       "Index(['171-0106620-2575543', '171-0452578-4639521', '171-0706521-2133101',\n",
       "       '171-0783760-5867544', '171-0897036-0249146', '171-0971399-7985957',\n",
       "       '171-1011931-6908342', '171-1081347-9640320', '171-1276032-4353917',\n",
       "       '171-1466085-1715543',\n",
       "       ...\n",
       "       '408-9075825-5955512', '408-9103810-9609927', '408-9138378-0186748',\n",
       "       '408-9189814-1337959', '408-9476573-3347555', '408-9554050-4017922',\n",
       "       '408-9645510-0101967', '408-9688958-6934717', '408-9729610-6276323',\n",
       "       '408-9784778-4847521'],\n",
       "      dtype='object', name='Order ID', length=629)"
      ]
     },
     "execution_count": 28,
     "metadata": {},
     "output_type": "execute_result"
    }
   ],
   "source": [
    "# 计算“出现次数大于2次的订单的索引”的第二种方法\n",
    "\n",
    "duplicate_index = sale_data.groupby('Order ID')['SKU'].agg([('count', 'size')]).query('count > 2').index\n",
    "\n",
    "duplicate_index"
   ]
  },
  {
   "cell_type": "code",
   "execution_count": 29,
   "id": "e9176397",
   "metadata": {},
   "outputs": [
    {
     "data": {
      "text/plain": [
       "Order ID\n",
       "171-0106620-2575543                                                      [SET436, SET355, JNE3484]\n",
       "171-0452578-4639521                                                       [CH202, JNE3801, SET444]\n",
       "171-0706521-2133101    [JNE3605, SET058, SET217, JNE3440, SET094, SET233, SET396, JNE3802, SET230]\n",
       "171-0783760-5867544                                                [JNE3619, SET350, J0102, J0331]\n",
       "171-0897036-0249146                                                 [J0110, J0109, SET171, SET344]\n",
       "                                                          ...                                     \n",
       "408-9554050-4017922                                                       [SET397, SET380, SET393]\n",
       "408-9645510-0101967                                                    [JNE3528, JNE2086, JNE3560]\n",
       "408-9688958-6934717                                                      [SET328, SET374, JNE3638]\n",
       "408-9729610-6276323                                                    [JNE3903, JNE2294, JNE3561]\n",
       "408-9784778-4847521                    [JNE0850, JNE09209, SAR163, SAR173, SAR165, SAR152, SAR181]\n",
       "Name: Style, Length: 629, dtype: object"
      ]
     },
     "execution_count": 29,
     "metadata": {},
     "output_type": "execute_result"
    }
   ],
   "source": [
    "# 购买2个以上商品的订单的Style\n",
    "\n",
    "sale_data.loc[sale_data['Order ID'].isin(duplicate_index), ['Order ID', 'Style']].\\\n",
    "groupby('Order ID')['Style'].unique()"
   ]
  },
  {
   "cell_type": "code",
   "execution_count": 30,
   "id": "ae974a4d",
   "metadata": {},
   "outputs": [
    {
     "data": {
      "text/plain": [
       "array(['SET288', 'SET394', 'SET397', 'JNE3861', 'J0335', 'SET265',\n",
       "       'J0280', 'JNE3405', 'JNE3288', 'SET316', 'J0006', 'JNE3487',\n",
       "       'JNE3702', 'JNE3461', 'SET291', 'JNE3396', 'JNE3775', 'JNE3409',\n",
       "       'SET345', 'JNE3715', 'SET398', 'J0230', 'MEN5001', 'MEN5022',\n",
       "       'MEN5023', 'MEN5030', 'J0004', 'J0234', 'J0236', 'JNE3437',\n",
       "       'JNE3718', 'JNE3463', 'JNE3673', 'J0124', 'JNE3691', 'J0008',\n",
       "       'SET197', 'JNE3789', 'JNE3669', 'SET279', 'SET145', 'JNE3391',\n",
       "       'JNE3787', 'JNE3603', 'JNE3618', 'JNE2199', 'JNE3614', 'SET356',\n",
       "       'SET366', 'J0341', 'J0338', 'J0399', 'JNE3662', 'JNE3643',\n",
       "       'JNE3660', 'JNE3468', 'SET363', 'SET348', 'J0003', 'JNE3543',\n",
       "       'SET216', 'SET236', 'SET282', 'JNE3562', 'JNE3534', 'JNE3422',\n",
       "       'JNE3786', 'JNE3785', 'JNE3446', 'J0299', 'JNE3751', 'JNE3837',\n",
       "       'JNE3634', 'JNE3364', 'JNE3365', 'JNE3714', 'SET401', 'SET323',\n",
       "       'JNE3781', 'SET217', 'J0185', 'JNE3068', 'SET307', 'J0034',\n",
       "       'J0233', 'SET396', 'SET258', 'JNE3522', 'JNE3757', 'JNE3776',\n",
       "       'JNE3384', 'SET277', 'J0011', 'J0010', 'SET377', 'SET393',\n",
       "       'JNE3892', 'J0251', 'SET328', 'J0213', 'SET229', 'JNE3399',\n",
       "       'JNE3294', 'JNE2170', 'SET183', 'SET058', 'JNE3291', 'J0024',\n",
       "       'JNE3479', 'JNE3694', 'JNE1234', 'JNE3407', 'J0073', 'J0072',\n",
       "       'J0026', 'SET358', 'SET260', 'JNE3697', 'SET324', 'J0281',\n",
       "       'JNE3443', 'SET281', 'JNE3440', 'JNE3610', 'JNE3480', 'JNE3425',\n",
       "       'JNE3510', 'J0415', 'J0337', 'JNE3415', 'JNE3633', 'JNE3376',\n",
       "       'JNE3270', 'JNE3612', 'JNE3739', 'SET286', 'JNE3471', 'JNE3790',\n",
       "       'JNE3432', 'JNE3516', 'SET247', 'JNE3722', 'J0308', 'J0396',\n",
       "       'JNE3707', 'JNE3042', 'JNE2009', 'JNE3476', 'JNE2266', 'JNE3761',\n",
       "       'SET310', 'JNE3688', 'SET400', 'JNE3576', 'JNE3638', 'J0302',\n",
       "       'JNE3870', 'SET267', 'J0339', 'J0295', 'JNE3706', 'JNE3623',\n",
       "       'JNE3777', 'JNE3518', 'JNE3725', 'J0164', 'SET293', 'JNE3427',\n",
       "       'JNE3773', 'JNE3621', 'JNE3749', 'J0343', 'JNE3615', 'J0081',\n",
       "       'SET238', 'JNE3764', 'J0376', 'SET389', 'JNE3835', 'JNE3836',\n",
       "       'JNE3421', 'SET156', 'SET116', 'SET188', 'JNE3369', 'JNE3523',\n",
       "       'J0029', 'J0051', 'JNE3833', 'JNE3738', 'JNE3473', 'JNE3742',\n",
       "       'J0350', 'SET268', 'JNE3721', 'JNE3797', 'JNE3798', 'SET257',\n",
       "       'SET285', 'JNE2291', 'JNE1951', 'SET219', 'JNE3806', 'SET233',\n",
       "       'JNE3368', 'SET014', 'JNE3732', 'SET331', 'SET048', 'J0096',\n",
       "       'JNE3423', 'JNE3439', 'JNE2265', 'JNE3470', 'JNE3501', 'JNE3412',\n",
       "       'JNE3483', 'SET340', 'SET249', 'SET392', 'J0349', 'SET251',\n",
       "       'SET110', 'SET098', 'SET349', 'SET361', 'SET339', 'J0025',\n",
       "       'SET062', 'J0009', 'J0254', 'NW034', 'JNE3454', 'J0012', 'SET209',\n",
       "       'SET275', 'J0007', 'SET043', 'SET218', 'J0340', 'J0344', 'SET365',\n",
       "       'SET359', 'SET350', 'J0301', 'J0048', 'JNE3724', 'J0277', 'SET380',\n",
       "       'JNE3716', 'JNE3763', 'JNE3255', 'SET210', 'SET220', 'SET272',\n",
       "       'SET402', 'JNE3431', 'JNE3878', 'SET192', 'SET240', 'SET044',\n",
       "       'J0104', 'JNE3363', 'JNE3144', 'JNE3567', 'SET278', 'JNE3488',\n",
       "       'JNE3530', 'JNE3451', 'JNE3627', 'JNE3719', 'J0250', 'SET299',\n",
       "       'J0370', 'CH203', 'CH204', 'CH213', 'SET290', 'SET374', 'JNE3465',\n",
       "       'JNE3611', 'SET171', 'SET295', 'SET196', 'NW020', 'NW014', 'NW013',\n",
       "       'JNE3560', 'SET270', 'MEN5008', 'MEN5009', 'MEN5032', 'JNE2321',\n",
       "       'J0212', 'JNE3435', 'MEN5004', 'MEN5005', 'JNE3373', 'J0097',\n",
       "       'J0369', 'J0239', 'SET405', 'J0132', 'SET264', 'SET130', 'JNE3366',\n",
       "       'J0207', 'J0093', 'J0129', 'JNE3803', 'J0205', 'J0118', 'J0113',\n",
       "       'SET153', 'JNE3549', 'J0217', 'J0219', 'J0216', 'JNE3636',\n",
       "       'JNE3449', 'JNE3766', 'SET184', 'SET320', 'SET143', 'J0382',\n",
       "       'J0247', 'JNE3710', 'SET221', 'JNE2171', 'J0243', 'SET243',\n",
       "       'JNE3609', 'JNE3334', 'JNE3430', 'JNE3416', 'JNE3607', 'JNE3401',\n",
       "       'SET334', 'SET326', 'SET332', 'JNE3759', 'JNE3810', 'JNE3794',\n",
       "       'J0110', 'J0109', 'SET344', 'JNE3565', 'JNE3225', 'JNE3575',\n",
       "       'JNE2014', 'JNE3467', 'JNE2032', 'JNE3574', 'JNE3784', 'JNE3408',\n",
       "       'JNE3805', 'J0179', 'J0198', 'JNE3635', 'MEN5024', 'J0014',\n",
       "       'J0346', 'J0186', 'JNE3795', 'JNE3704', 'JNE3700', 'SET038',\n",
       "       'JNE1998', 'JNE1977', 'JNE3608', 'JNE3547', 'JNE3554', 'J0139',\n",
       "       'JNE3652', 'JNE3659', 'JNE0850', 'JNE09209', 'SAR163', 'SAR173',\n",
       "       'SAR165', 'SAR152', 'SAR181', 'SAR136', 'SAR112', 'SAR114',\n",
       "       'SAR092', 'JNE09186', 'SAR091', 'SAR098', 'SAR100', 'SET289',\n",
       "       'SET225', 'SET135', 'JNE3709', 'J0306', 'JNE3869', 'SET144',\n",
       "       'JNE3801', 'J0190', 'JNE3645', 'JNE3428', 'JNE3619', 'SET369',\n",
       "       'SET360', 'JNE3613', 'SET227', 'SET261', 'SET280', 'BL017',\n",
       "       'SET269', 'SET433', 'JNE1525', 'NW030', 'NW031', 'NW012', 'SET347',\n",
       "       'SET386', 'JNE3579', 'JNE3735', 'JNE3531', 'SET204', 'JNE3375',\n",
       "       'SET388', 'JNE3736', 'JNE3753', 'JNE3726', 'SET004', 'J0150',\n",
       "       'JNE3760', 'SET198', 'J0002', 'SET252', 'SET131', 'SET187',\n",
       "       'J0278', 'MEN5021', 'MEN5026', 'JNE3813', 'JNE3637', 'JNE3654',\n",
       "       'JNE3528', 'JNE2086', 'SET304', 'JNE3800', 'JNE3348', 'J0371',\n",
       "       'MEN5003', 'MEN5028', 'JNE2307', 'JNE3564', 'J0210', 'JNE3779',\n",
       "       'JNE3720', 'SET341', 'SET152', 'J0381', 'SET287', 'JNE3506',\n",
       "       'JNE3485', 'SET413', 'SET375', 'MEN5006', 'MEN5011', 'PJNE1906',\n",
       "       'PJNE3404', 'PSET268', 'J0197', 'J0127', 'SET395', 'SET203',\n",
       "       'J0372', 'JNE3548', 'JNE2100', 'JNE3630', 'JNE3628', 'JNE3403',\n",
       "       'J0336', 'SET228', 'JNE3887', 'SET415', 'J0375', 'JNE3865',\n",
       "       'SET319', 'JNE3769', 'SET343', 'JNE3601', 'JNE3745', 'JNE3756',\n",
       "       'JNE3515', 'JNE3703', 'JNE3879', 'J0157', 'JNE3252', 'JNE2153',\n",
       "       'SET408', 'SET352', 'J0334', 'J0402', 'JNE3811', 'J0001', 'J0389',\n",
       "       'J0095', 'J0143', 'JNE3482', 'MEN5018', 'MEN5031', 'MEN5019',\n",
       "       'SET273', 'SET322', 'J0390', 'PSET264', 'PJNE3607', 'PJNE2014',\n",
       "       'JNE3458', 'J0379', 'J0136', 'JNE3689', 'JNE3690', 'J0353',\n",
       "       'J0152', 'PJNE3252', 'PJNE3399', 'PJNE3364', 'JNE3856', 'JNE2132',\n",
       "       'J0380', 'JNE3780', 'JNE3778', 'J0192', 'JNE3819', 'JNE3822',\n",
       "       'J0151', 'PJNE2100', 'J0401', 'J0333', 'SET302', 'JNE3355',\n",
       "       'J0119', 'J0111', 'J0285', 'SET202', 'J0126', 'JNE2205', 'JNE3838',\n",
       "       'JNE3616', 'J0228', 'J0013', 'SET078', 'PJNE2199', 'J0417',\n",
       "       'J0388', 'J0391', 'J0181', 'J0392', 'MEN5020', 'JNE3620',\n",
       "       'JNE3799', 'JNE3605', 'SET094', 'JNE3802', 'SET230', 'BTM039',\n",
       "       'SET337', 'J0090', 'SET303', 'JNE3740', 'JNE3500', 'J0158',\n",
       "       'SET201', 'MEN5007', 'JNE3905', 'MEN5029', 'MEN5027', 'MEN5025',\n",
       "       'JNE3821', 'SET383', 'J0142', 'J0117', 'JNE3701', 'J0297',\n",
       "       'JNE3640', 'J0413', 'J0105', 'J0304', 'JNE3881', 'BTM044',\n",
       "       'BTM046', 'JNE3273', 'JNE3686', 'J0201', 'NW028', 'SET414',\n",
       "       'JNE3898', 'J0188', 'SET226', 'JNE1906', 'PJNE3291', 'JNE3730',\n",
       "       'SET100', 'J0089', 'J0203', 'J0082', 'J0153', 'JNE3904', 'SET266',\n",
       "       'JNE3741', 'JNE3768', 'J0237', 'J0077', 'J0296', 'SET224', 'J0159',\n",
       "       'J0307', 'SET239', 'J0283', 'J0284', 'SET329', 'J0249', 'J0385',\n",
       "       'BL104', 'BL110', 'J0310', 'J0116', 'JNE3642', 'J0098', 'SET376',\n",
       "       'JNE3265', 'JNE1408', 'SET321', 'JNE3899', 'BL111', 'BL089',\n",
       "       'JNE3395', 'J0173', 'J0293', 'JNE3728', 'JNE2305', 'JNE3434',\n",
       "       'SET186', 'SET246', 'SET436', 'SET355', 'JNE3484', 'JNE3791',\n",
       "       'JNE3906', 'SET403', 'SET444', 'JNE3475', 'PJNE3440', 'JNE3765',\n",
       "       'SET333', 'JNE3733', 'SET327', 'SET003', 'JNE3400', 'JNE3708',\n",
       "       'JNE3257', 'SET317', 'JNE3903', 'JNE2294', 'JNE3561', 'SET330',\n",
       "       'J0400', 'J0167', 'DPT052', 'SET357', 'NW001', 'J0345', 'JNE3661',\n",
       "       'JNE3675', 'JNE3651', 'AN205', 'AN206', 'AN212', 'JNE3860',\n",
       "       'SAR070', 'SET305', 'J0241', 'J0103', 'SET438', 'J0176', 'JNE3424',\n",
       "       'J0418', 'JNE3641', 'J0244', 'JNE3727', 'J0242', 'JNE3872',\n",
       "       'SET313', 'SET193', 'J0252', 'SET338', 'JNE3568', 'SET437',\n",
       "       'SET318', 'J0434', 'JNE3792', 'J0419', 'JNE3793', 'J0102', 'J0331',\n",
       "       'JNE3566', 'JNE3698', 'J0112', 'CH202', 'JNE3503', 'JNE3371',\n",
       "       'SET263', 'J0420', 'J0373', 'J0209', 'J0187', 'J0374', 'JNE3504',\n",
       "       'J0170', 'JNE3160', 'JNE3817', 'MEN5013', 'SET262', 'SET409',\n",
       "       'JNE3617', 'JNE3771', 'SET346', 'SET373', 'JNE3441', 'JNE3782',\n",
       "       'JNE3783', 'JNE3888', 'JNE3885', 'JNE3907', 'SET111', 'JNE3734',\n",
       "       'JNE3774', 'SET232', 'JNE3339', 'JNE3452', 'SET154', 'SET053',\n",
       "       'SET384', 'JNE3602', 'SET390', 'JNE3445', 'J0294', 'JNE3796',\n",
       "       'JNE3752', 'JNE3537', 'SET250', 'J0049', 'SET179', 'JNE3717',\n",
       "       'JNE3665', 'JNE3648', 'BL079', 'JNE3420', 'JNE3895', 'JNE3890',\n",
       "       'JNE3577', 'SET055'], dtype=object)"
      ]
     },
     "execution_count": 30,
     "metadata": {},
     "output_type": "execute_result"
    }
   ],
   "source": [
    "# style列表\n",
    "\n",
    "sale_data[sale_data['Order ID'].isin(duplicate_index)]['Style'].unique()"
   ]
  },
  {
   "cell_type": "markdown",
   "id": "1a19f94f",
   "metadata": {},
   "source": [
    "## 9. B2B和非B2B用户的购买力如何？\n",
    "## 9. What is the purchasing power of B2B and non-B2B users?\n",
    "\n",
    "### a. 统计两类用户的总销售金额和总销量。\n",
    "【注：需要将取值False替换为‘Non-B2B',取值True替换为'B2B',使你的答案更具有可读性】\n",
    "### a. Count the total sales dollars and total sales volume for both types of users. \n",
    "[Note: You need to replace the value False with 'Non-B2B' and the value True with 'B2B' to make your answer more readable].\n",
    "\n",
    "### b. 分别统计两类用户畅销TOP5（销售金额、销量）的商品有哪些。\n",
    "### b. What are the top 5 best-selling (sales amount, sales volume) items for each of the two categories of users. "
   ]
  },
  {
   "cell_type": "code",
   "execution_count": 31,
   "id": "7c019821",
   "metadata": {},
   "outputs": [],
   "source": [
    "# 根据B2B分组\n",
    "\n",
    "B2B_grouped = sale_data.groupby('B2B')"
   ]
  },
  {
   "cell_type": "code",
   "execution_count": 32,
   "id": "38f3218b",
   "metadata": {},
   "outputs": [],
   "source": [
    "# 计算总销售金额和总销量\n",
    "\n",
    "amount_data = B2B_grouped['Amount'].sum()\n",
    "qty_data = B2B_grouped['Qty'].sum()\n",
    "\n",
    "# 将两个数据合并\n",
    "\n",
    "B2B_total_data = pd.DataFrame({'total sale amount': amount_data, 'total sale volume': qty_data})\n",
    "\n",
    "# 修改索引\n",
    "\n",
    "B2B_total_data.rename(index={False: 'Non-B2B', True: 'B2B'}, inplace=True)\n",
    "B2B_total_data.index.name = 'Category'"
   ]
  },
  {
   "cell_type": "code",
   "execution_count": 33,
   "id": "638117a1",
   "metadata": {},
   "outputs": [
    {
     "data": {
      "text/html": [
       "<div>\n",
       "<style scoped>\n",
       "    .dataframe tbody tr th:only-of-type {\n",
       "        vertical-align: middle;\n",
       "    }\n",
       "\n",
       "    .dataframe tbody tr th {\n",
       "        vertical-align: top;\n",
       "    }\n",
       "\n",
       "    .dataframe thead th {\n",
       "        text-align: right;\n",
       "    }\n",
       "</style>\n",
       "<table border=\"1\" class=\"dataframe\">\n",
       "  <thead>\n",
       "    <tr style=\"text-align: right;\">\n",
       "      <th></th>\n",
       "      <th>total sale amount</th>\n",
       "      <th>total sale volume</th>\n",
       "    </tr>\n",
       "    <tr>\n",
       "      <th>Category</th>\n",
       "      <th></th>\n",
       "      <th></th>\n",
       "    </tr>\n",
       "  </thead>\n",
       "  <tbody>\n",
       "    <tr>\n",
       "      <th>Non-B2B</th>\n",
       "      <td>42709315.0</td>\n",
       "      <td>65908</td>\n",
       "    </tr>\n",
       "    <tr>\n",
       "      <th>B2B</th>\n",
       "      <td>366823.0</td>\n",
       "      <td>528</td>\n",
       "    </tr>\n",
       "  </tbody>\n",
       "</table>\n",
       "</div>"
      ],
      "text/plain": [
       "          total sale amount  total sale volume\n",
       "Category                                      \n",
       "Non-B2B          42709315.0              65908\n",
       "B2B                366823.0                528"
      ]
     },
     "execution_count": 33,
     "metadata": {},
     "output_type": "execute_result"
    }
   ],
   "source": [
    "B2B_total_data"
   ]
  },
  {
   "cell_type": "code",
   "execution_count": 34,
   "id": "07c4ae01",
   "metadata": {},
   "outputs": [],
   "source": [
    "# 筛选出B2B用户的数据\n",
    "\n",
    "B2B_data = sale_data[sale_data['B2B'] == True]"
   ]
  },
  {
   "cell_type": "code",
   "execution_count": 35,
   "id": "b903550a",
   "metadata": {},
   "outputs": [
    {
     "data": {
      "text/plain": [
       "SKU\n",
       "J0013-SKD-XXXL       8792.0\n",
       "J0230-SKD-XL         5024.0\n",
       "SET397-KR-NP-XXXL    4370.0\n",
       "SET268-KR-NP-S       3152.0\n",
       "JNE3797-KR-XXXL      3084.0\n",
       "Name: Amount, dtype: float64"
      ]
     },
     "execution_count": 35,
     "metadata": {},
     "output_type": "execute_result"
    }
   ],
   "source": [
    "# B2B用户的销售金额TOP5商品\n",
    "\n",
    "B2B_data.groupby('SKU')['Amount'].sum().nlargest(5)"
   ]
  },
  {
   "cell_type": "code",
   "execution_count": 36,
   "id": "44bcb616",
   "metadata": {},
   "outputs": [
    {
     "data": {
      "text/plain": [
       "SKU\n",
       "J0013-SKD-XXXL          8\n",
       "J0230-SKD-XL            4\n",
       "JNE2049-KR-351-XXXL1    4\n",
       "JNE3797-KR-L            4\n",
       "JNE3797-KR-XXXL         4\n",
       "Name: Qty, dtype: int64"
      ]
     },
     "execution_count": 36,
     "metadata": {},
     "output_type": "execute_result"
    }
   ],
   "source": [
    "# B2B用户的销售量TOP5商品\n",
    "\n",
    "B2B_data.groupby('SKU')['Qty'].sum().nlargest(5)"
   ]
  },
  {
   "cell_type": "code",
   "execution_count": 37,
   "id": "525c413b",
   "metadata": {},
   "outputs": [],
   "source": [
    "# 筛选出非B2B用户的数据\n",
    "\n",
    "non_B2B_data = sale_data[sale_data['B2B'] == False]"
   ]
  },
  {
   "cell_type": "code",
   "execution_count": 38,
   "id": "91fa49cd",
   "metadata": {},
   "outputs": [
    {
     "data": {
      "text/plain": [
       "SKU\n",
       "J0230-SKD-M     312511.0\n",
       "JNE3797-KR-L    256682.0\n",
       "J0230-SKD-S     237026.0\n",
       "JNE3797-KR-S    229800.0\n",
       "JNE3797-KR-M    218514.0\n",
       "Name: Amount, dtype: float64"
      ]
     },
     "execution_count": 38,
     "metadata": {},
     "output_type": "execute_result"
    }
   ],
   "source": [
    "# 非B2B用户的销售金额TOP5商品\n",
    "\n",
    "non_B2B_data.groupby('SKU')['Amount'].sum().nlargest(5)"
   ]
  },
  {
   "cell_type": "code",
   "execution_count": 39,
   "id": "ca877a49",
   "metadata": {},
   "outputs": [
    {
     "data": {
      "text/plain": [
       "SKU\n",
       "JNE3797-KR-L     349\n",
       "JNE3797-KR-S     308\n",
       "JNE3797-KR-M     298\n",
       "J0230-SKD-M      276\n",
       "JNE3797-KR-XS    257\n",
       "Name: Qty, dtype: int64"
      ]
     },
     "execution_count": 39,
     "metadata": {},
     "output_type": "execute_result"
    }
   ],
   "source": [
    "# 非B2B用户的销售量TOP5商品\n",
    "\n",
    "non_B2B_data.groupby('SKU')['Qty'].sum().nlargest(5)"
   ]
  },
  {
   "cell_type": "markdown",
   "id": "05176a7f",
   "metadata": {},
   "source": [
    "## 10.分别统计4-6月订单销量TOP3的商品以及各月销售金额TOP3的品类。\n",
    "## 10. Separate statistics on the top 3 items in terms of order sales from April to June and the top 3 categories in terms of sales amount for each month."
   ]
  },
  {
   "cell_type": "code",
   "execution_count": 40,
   "id": "e2158587",
   "metadata": {},
   "outputs": [
    {
     "data": {
      "text/plain": [
       "SKU\n",
       "JNE3797-KR-L    353\n",
       "JNE3797-KR-S    311\n",
       "JNE3797-KR-M    298\n",
       "Name: Qty, dtype: int64"
      ]
     },
     "execution_count": 40,
     "metadata": {},
     "output_type": "execute_result"
    }
   ],
   "source": [
    "# 计算4-6月订单销量TOP3的商品\n",
    "\n",
    "sale_data.groupby('SKU')['Qty'].sum().nlargest(3)"
   ]
  },
  {
   "cell_type": "code",
   "execution_count": 41,
   "id": "bf98696c",
   "metadata": {},
   "outputs": [
    {
     "name": "stderr",
     "output_type": "stream",
     "text": [
      "/var/folders/zt/_8t7dzds4m5ggybczqw3t8dw0000gn/T/ipykernel_3382/928535197.py:3: UserWarning: Could not infer format, so each element will be parsed individually, falling back to `dateutil`. To ensure parsing is consistent and as-expected, please specify a format.\n",
      "  sale_data['Datetime'] = pd.to_datetime(sale_data['Date'])\n"
     ]
    }
   ],
   "source": [
    "# 取出时间\n",
    "\n",
    "sale_data['Datetime'] = pd.to_datetime(sale_data['Date'])\n",
    "sale_data['month'] = sale_data['Datetime'].map(lambda x: x.month)\n",
    "\n",
    "# 分为三个月份\n",
    "\n",
    "sale_data_4 = sale_data[sale_data['month'] == 4]\n",
    "sale_data_5 = sale_data[sale_data['month'] == 5]\n",
    "sale_data_6 = sale_data[sale_data['month'] == 6]"
   ]
  },
  {
   "cell_type": "code",
   "execution_count": 42,
   "id": "cdd6a190",
   "metadata": {},
   "outputs": [
    {
     "data": {
      "text/plain": [
       "Category\n",
       "Set              8892017.0\n",
       "kurta            4755939.0\n",
       "Western Dress    1662133.0\n",
       "Name: Amount, dtype: float64"
      ]
     },
     "execution_count": 42,
     "metadata": {},
     "output_type": "execute_result"
    }
   ],
   "source": [
    "# 4月销售金额TOP3的品类\n",
    "\n",
    "sale_data_4.groupby('Category')['Amount'].sum().nlargest(3)"
   ]
  },
  {
   "cell_type": "code",
   "execution_count": 43,
   "id": "cbf19d99",
   "metadata": {},
   "outputs": [
    {
     "data": {
      "text/plain": [
       "Category\n",
       "Set              6493987.0\n",
       "kurta            3464743.0\n",
       "Western Dress    2831370.0\n",
       "Name: Amount, dtype: float64"
      ]
     },
     "execution_count": 43,
     "metadata": {},
     "output_type": "execute_result"
    }
   ],
   "source": [
    "# 5月销售金额TOP3的品类\n",
    "\n",
    "sale_data_5.groupby('Category')['Amount'].sum().nlargest(3)"
   ]
  },
  {
   "cell_type": "code",
   "execution_count": 44,
   "id": "488348e8",
   "metadata": {},
   "outputs": [
    {
     "data": {
      "text/plain": [
       "Category\n",
       "Set              5859545.0\n",
       "kurta            3308982.0\n",
       "Western Dress    1896859.0\n",
       "Name: Amount, dtype: float64"
      ]
     },
     "execution_count": 44,
     "metadata": {},
     "output_type": "execute_result"
    }
   ],
   "source": [
    "# 6月销售金额TOP3的品类\n",
    "\n",
    "sale_data_6.groupby('Category')['Amount'].sum().nlargest(3)"
   ]
  }
 ],
 "metadata": {
  "kernelspec": {
   "display_name": "Python 3 (ipykernel)",
   "language": "python",
   "name": "python3"
  },
  "language_info": {
   "codemirror_mode": {
    "name": "ipython",
    "version": 3
   },
   "file_extension": ".py",
   "mimetype": "text/x-python",
   "name": "python",
   "nbconvert_exporter": "python",
   "pygments_lexer": "ipython3",
   "version": "3.11.5"
  }
 },
 "nbformat": 4,
 "nbformat_minor": 5
}
